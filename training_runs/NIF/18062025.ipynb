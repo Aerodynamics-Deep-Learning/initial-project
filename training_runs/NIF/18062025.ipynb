{
 "cells": [
  {
   "cell_type": "markdown",
   "id": "c4e2c173",
   "metadata": {},
   "source": [
    "This training run is on the initial dataset given by Davut, (named: airfoil_9k_subset2k.csv). The model is being run using an NIF model."
   ]
  },
  {
   "cell_type": "code",
   "execution_count": 25,
   "id": "9d12e2ee",
   "metadata": {},
   "outputs": [],
   "source": [
    "# Import all the models, training functions, manipulators here\n",
    "\n",
    "import sys\n",
    "sys.path.append(r\"C:\\SenkDosya\\Projects\\AeroML\\initial-project\")\n",
    "from models.NIF import NIF\n",
    "from models.helper_functions.data_manipulators import *\n",
    "from models.helper_functions.Training_functions import *"
   ]
  },
  {
   "cell_type": "code",
   "execution_count": 23,
   "id": "4626c84a",
   "metadata": {},
   "outputs": [],
   "source": [
    "# Import and manipulate all the dataset required\n",
    "\n",
    "df = pd.read_csv(r\"C:\\SenkDosya\\Projects\\AeroML\\initial-project\\datasets\\airfoil_9k_subset2k.csv\") # read csv\n",
    "df = datareform_tuple_coordinates(df=df, which_coord=\"y\") # take in the y vals\n",
    "input_tensor, target_tensor = seperate_transform(df=df, target_coord=18) # get the target and input tensors\n",
    "del df # Clear memory"
   ]
  },
  {
   "cell_type": "code",
   "execution_count": 28,
   "id": "b11f7373",
   "metadata": {},
   "outputs": [
    {
     "ename": "KeyError",
     "evalue": "'num_hidden_layers'",
     "output_type": "error",
     "traceback": [
      "\u001b[31m---------------------------------------------------------------------------\u001b[39m",
      "\u001b[31mKeyError\u001b[39m                                  Traceback (most recent call last)",
      "\u001b[36mCell\u001b[39m\u001b[36m \u001b[39m\u001b[32mIn[28]\u001b[39m\u001b[32m, line 25\u001b[39m\n\u001b[32m     22\u001b[39m     optimizer = torch.optim.Adam(model.parameters(), lr=lr)\n\u001b[32m     23\u001b[39m     \u001b[38;5;28;01mreturn\u001b[39;00m model, optimizer\n\u001b[32m---> \u001b[39m\u001b[32m25\u001b[39m NIF_model, NIF_optimizer = \u001b[43mcreate_NIF_and_optimizer\u001b[49m\u001b[43m(\u001b[49m\u001b[43mcfg_shape_net\u001b[49m\u001b[43m=\u001b[49m\u001b[43mcfg_shape_net\u001b[49m\u001b[43m,\u001b[49m\u001b[43m \u001b[49m\u001b[43mcfg_param_net\u001b[49m\u001b[43m=\u001b[49m\u001b[43mcfg_param_net\u001b[49m\u001b[43m,\u001b[49m\u001b[43m \u001b[49m\u001b[43mlr\u001b[49m\u001b[43m=\u001b[49m\u001b[32;43m0.001\u001b[39;49m\u001b[43m)\u001b[49m\n",
      "\u001b[36mCell\u001b[39m\u001b[36m \u001b[39m\u001b[32mIn[28]\u001b[39m\u001b[32m, line 21\u001b[39m, in \u001b[36mcreate_NIF_and_optimizer\u001b[39m\u001b[34m(cfg_shape_net, cfg_param_net, lr)\u001b[39m\n\u001b[32m     20\u001b[39m \u001b[38;5;28;01mdef\u001b[39;00m\u001b[38;5;250m \u001b[39m\u001b[34mcreate_NIF_and_optimizer\u001b[39m(cfg_shape_net, cfg_param_net, lr= \u001b[32m0.001\u001b[39m):\n\u001b[32m---> \u001b[39m\u001b[32m21\u001b[39m     model = \u001b[43mNIF\u001b[49m\u001b[43m(\u001b[49m\u001b[43mcfg_shape_net\u001b[49m\u001b[43m,\u001b[49m\u001b[43m \u001b[49m\u001b[43mcfg_param_net\u001b[49m\u001b[43m)\u001b[49m\n\u001b[32m     22\u001b[39m     optimizer = torch.optim.Adam(model.parameters(), lr=lr)\n\u001b[32m     23\u001b[39m     \u001b[38;5;28;01mreturn\u001b[39;00m model, optimizer\n",
      "\u001b[36mFile \u001b[39m\u001b[32mC:\\SenkDosya\\Projects\\AeroML\\initial-project\\models\\NIF.py:24\u001b[39m, in \u001b[36mNIF.__init__\u001b[39m\u001b[34m(self, cfg_shape_net, cfg_param_net)\u001b[39m\n\u001b[32m     22\u001b[39m \u001b[38;5;28mself\u001b[39m.shape_o_dim = cfg_shape_net[\u001b[33m'\u001b[39m\u001b[33moutput_dim\u001b[39m\u001b[33m'\u001b[39m]\n\u001b[32m     23\u001b[39m \u001b[38;5;28mself\u001b[39m.shape_hidden_units = cfg_shape_net[\u001b[33m'\u001b[39m\u001b[33mhidden_units\u001b[39m\u001b[33m'\u001b[39m]\n\u001b[32m---> \u001b[39m\u001b[32m24\u001b[39m \u001b[38;5;28mself\u001b[39m.shape_activation = cfg_shape_net.get(\u001b[33m'\u001b[39m\u001b[33mshape_activation\u001b[39m\u001b[33m'\u001b[39m, nn.Tanh)()\n\u001b[32m     26\u001b[39m \u001b[38;5;66;03m# Initialize paremeter network parameters\u001b[39;00m\n\u001b[32m     27\u001b[39m \u001b[38;5;28mself\u001b[39m.cfg_param_net = cfg_param_net\n",
      "\u001b[31mKeyError\u001b[39m: 'num_hidden_layers'"
     ]
    }
   ],
   "source": [
    "\"\"\"\n",
    "Trial 1, define configs for Trial 1 here\n",
    "\"\"\"\n",
    "\n",
    "import torch.nn as nn\n",
    "\n",
    "cfg_shape_net = {\n",
    "    'input_dim': 15,\n",
    "    'output_dim': 3,\n",
    "    'hidden_units': [8,16,16,8],\n",
    "    'shape_activation': [nn.Tanh]\n",
    "}\n",
    "\n",
    "cfg_param_net = {\n",
    "    'input_dim': 3,\n",
    "    'hidden_units': [8,16,16,8],\n",
    "    'param_activation': [nn.Tanh]\n",
    "}\n",
    "\n",
    "def create_NIF_and_optimizer(cfg_shape_net, cfg_param_net, lr= 0.001):\n",
    "    model = NIF(cfg_shape_net, cfg_param_net)\n",
    "    optimizer = torch.optim.Adam(model.parameters(), lr=lr)\n",
    "    return model, optimizer\n",
    "\n",
    "NIF_model, NIF_optimizer = create_NIF_and_optimizer(cfg_shape_net=cfg_shape_net, cfg_param_net=cfg_param_net, lr=0.001)\n",
    "\n",
    "\n",
    "\n"
   ]
  }
 ],
 "metadata": {
  "kernelspec": {
   "display_name": "Python (pip)",
   "language": "python",
   "name": "pip-torch"
  },
  "language_info": {
   "codemirror_mode": {
    "name": "ipython",
    "version": 3
   },
   "file_extension": ".py",
   "mimetype": "text/x-python",
   "name": "python",
   "nbconvert_exporter": "python",
   "pygments_lexer": "ipython3",
   "version": "3.13.3"
  }
 },
 "nbformat": 4,
 "nbformat_minor": 5
}
