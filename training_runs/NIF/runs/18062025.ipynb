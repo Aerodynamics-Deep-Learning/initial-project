{
 "cells": [
  {
   "cell_type": "markdown",
   "id": "c4e2c173",
   "metadata": {},
   "source": [
    "This training run is on the initial dataset given by Davut, (named: airfoil_9k_subset2k.csv). The model is being run using an NIF model."
   ]
  },
  {
   "cell_type": "code",
   "execution_count": 1,
   "id": "9d12e2ee",
   "metadata": {},
   "outputs": [],
   "source": [
    "# Import all the models, training functions, manipulators here\n",
    "\n",
    "import sys\n",
    "sys.path.append(r\"C:\\SenkDosya\\Projects\\AeroML\\initial-project\")\n",
    "from models.NIF import NIF\n",
    "from models.helper_functions.data_manipulators import *\n",
    "from models.helper_functions.Training_functions import *"
   ]
  },
  {
   "cell_type": "code",
   "execution_count": 2,
   "id": "9d5a9098",
   "metadata": {},
   "outputs": [],
   "source": [
    "# Set device\n",
    "\n",
    "device = torch.device(\"cuda\" if torch.cuda.is_available() else \"cpu\")"
   ]
  },
  {
   "cell_type": "code",
   "execution_count": 3,
   "id": "4626c84a",
   "metadata": {},
   "outputs": [],
   "source": [
    "# Import and manipulate all the dataset required\n",
    "\n",
    "df = pd.read_csv(r\"C:\\SenkDosya\\Projects\\AeroML\\initial-project\\datasets\\airfoil_9k_subset2k.csv\") # read csv\n",
    "df = datareform_tuple_coordinates(df=df, which_coord=\"y\") # take in the y vals\n",
    "input_tensor, target_tensor = seperate_transform(df=df, target_coord=18) # get the target and input tensors\n",
    "del df # Clear memory"
   ]
  },
  {
   "cell_type": "code",
   "execution_count": 4,
   "id": "b11f7373",
   "metadata": {},
   "outputs": [],
   "source": [
    "\"\"\"\n",
    "Trial 1, define configs for Trial 1 here\n",
    "\"\"\"\n",
    "\n",
    "import torch.nn as nn\n",
    "\n",
    "cfg_shape_net = {\n",
    "    'input_dim': 15,\n",
    "    'output_dim': 3,\n",
    "    'hidden_units': [8,16,16,8],\n",
    "    'shape_activation': nn.Tanh\n",
    "}\n",
    "\n",
    "cfg_param_net = {\n",
    "    'input_dim': 3,\n",
    "    'hidden_units': [8,16,16,8],\n",
    "    'param_activation': nn.Tanh\n",
    "}\n",
    "\n",
    "def create_NIF_and_optimizer(cfg_shape_net, cfg_param_net, lr= 0.001):\n",
    "    model = NIF(cfg_shape_net, cfg_param_net)\n",
    "    optimizer = torch.optim.Adam(model.parameters(), lr=lr)\n",
    "    return model, optimizer\n",
    "\n",
    "NIF_model, NIF_optimizer = create_NIF_and_optimizer(cfg_shape_net=cfg_shape_net, cfg_param_net=cfg_param_net, lr=0.001)\n",
    "NIF_model = NIF_model.to(device)"
   ]
  },
  {
   "cell_type": "code",
   "execution_count": 5,
   "id": "c512f06d",
   "metadata": {},
   "outputs": [],
   "source": [
    "import torch\n",
    "\n",
    "device = torch.device(\"cuda\" if torch.cuda.is_available() else \"cpu\")\n",
    "\n",
    "# Move model to device\n",
    "NIF_model = NIF_model.to(device)\n",
    "\n",
    "# Create and move inputs to device\n",
    "input_tensor = torch.randn(5, cfg_shape_net['input_dim'] + cfg_param_net['input_dim']).to(device)\n",
    "\n",
    "# Forward pass\n",
    "output = NIF_model(input_tensor)"
   ]
  },
  {
   "cell_type": "code",
   "execution_count": null,
   "id": "bb40b5e9",
   "metadata": {},
   "outputs": [],
   "source": []
  }
 ],
 "metadata": {
  "kernelspec": {
   "display_name": "Python (pip)",
   "language": "python",
   "name": "pip-torch"
  },
  "language_info": {
   "codemirror_mode": {
    "name": "ipython",
    "version": 3
   },
   "file_extension": ".py",
   "mimetype": "text/x-python",
   "name": "python",
   "nbconvert_exporter": "python",
   "pygments_lexer": "ipython3",
   "version": "3.13.3"
  }
 },
 "nbformat": 4,
 "nbformat_minor": 5
}
